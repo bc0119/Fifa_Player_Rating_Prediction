{
 "cells": [
  {
   "cell_type": "markdown",
   "metadata": {},
   "source": [
    "# Modeling"
   ]
  },
  {
   "cell_type": "code",
   "execution_count": 1,
   "metadata": {},
   "outputs": [],
   "source": [
    "import pandas as pd\n",
    "import numpy as np\n",
    "import matplotlib.pyplot as plt\n",
    "%matplotlib inline\n",
    "import seaborn as sns\n",
    "import warnings\n",
    "warnings.filterwarnings('ignore')"
   ]
  },
  {
   "cell_type": "code",
   "execution_count": 2,
   "metadata": {},
   "outputs": [
    {
     "data": {
      "text/html": [
       "<div>\n",
       "<style scoped>\n",
       "    .dataframe tbody tr th:only-of-type {\n",
       "        vertical-align: middle;\n",
       "    }\n",
       "\n",
       "    .dataframe tbody tr th {\n",
       "        vertical-align: top;\n",
       "    }\n",
       "\n",
       "    .dataframe thead th {\n",
       "        text-align: right;\n",
       "    }\n",
       "</style>\n",
       "<table border=\"1\" class=\"dataframe\">\n",
       "  <thead>\n",
       "    <tr style=\"text-align: right;\">\n",
       "      <th></th>\n",
       "      <th>Unnamed: 0</th>\n",
       "      <th>overall</th>\n",
       "      <th>potential</th>\n",
       "      <th>age</th>\n",
       "      <th>height_cm</th>\n",
       "      <th>weight_kg</th>\n",
       "      <th>weak_foot</th>\n",
       "      <th>skill_moves</th>\n",
       "      <th>international_reputation</th>\n",
       "      <th>attacking_crossing</th>\n",
       "      <th>...</th>\n",
       "      <th>mentality_penalties</th>\n",
       "      <th>mentality_composure</th>\n",
       "      <th>defending_marking_awareness</th>\n",
       "      <th>defending_standing_tackle</th>\n",
       "      <th>defending_sliding_tackle</th>\n",
       "      <th>goalkeeping_diving</th>\n",
       "      <th>goalkeeping_handling</th>\n",
       "      <th>goalkeeping_kicking</th>\n",
       "      <th>goalkeeping_positioning</th>\n",
       "      <th>goalkeeping_reflexes</th>\n",
       "    </tr>\n",
       "  </thead>\n",
       "  <tbody>\n",
       "    <tr>\n",
       "      <th>0</th>\n",
       "      <td>0</td>\n",
       "      <td>93</td>\n",
       "      <td>93</td>\n",
       "      <td>34</td>\n",
       "      <td>170</td>\n",
       "      <td>72</td>\n",
       "      <td>4</td>\n",
       "      <td>4</td>\n",
       "      <td>5</td>\n",
       "      <td>85</td>\n",
       "      <td>...</td>\n",
       "      <td>75</td>\n",
       "      <td>96</td>\n",
       "      <td>20</td>\n",
       "      <td>35</td>\n",
       "      <td>24</td>\n",
       "      <td>6</td>\n",
       "      <td>11</td>\n",
       "      <td>15</td>\n",
       "      <td>14</td>\n",
       "      <td>8</td>\n",
       "    </tr>\n",
       "    <tr>\n",
       "      <th>1</th>\n",
       "      <td>1</td>\n",
       "      <td>92</td>\n",
       "      <td>92</td>\n",
       "      <td>32</td>\n",
       "      <td>185</td>\n",
       "      <td>81</td>\n",
       "      <td>4</td>\n",
       "      <td>4</td>\n",
       "      <td>5</td>\n",
       "      <td>71</td>\n",
       "      <td>...</td>\n",
       "      <td>90</td>\n",
       "      <td>88</td>\n",
       "      <td>35</td>\n",
       "      <td>42</td>\n",
       "      <td>19</td>\n",
       "      <td>15</td>\n",
       "      <td>6</td>\n",
       "      <td>12</td>\n",
       "      <td>8</td>\n",
       "      <td>10</td>\n",
       "    </tr>\n",
       "    <tr>\n",
       "      <th>2</th>\n",
       "      <td>2</td>\n",
       "      <td>91</td>\n",
       "      <td>91</td>\n",
       "      <td>36</td>\n",
       "      <td>187</td>\n",
       "      <td>83</td>\n",
       "      <td>4</td>\n",
       "      <td>5</td>\n",
       "      <td>5</td>\n",
       "      <td>87</td>\n",
       "      <td>...</td>\n",
       "      <td>88</td>\n",
       "      <td>95</td>\n",
       "      <td>24</td>\n",
       "      <td>32</td>\n",
       "      <td>24</td>\n",
       "      <td>7</td>\n",
       "      <td>11</td>\n",
       "      <td>15</td>\n",
       "      <td>14</td>\n",
       "      <td>11</td>\n",
       "    </tr>\n",
       "    <tr>\n",
       "      <th>3</th>\n",
       "      <td>3</td>\n",
       "      <td>91</td>\n",
       "      <td>91</td>\n",
       "      <td>29</td>\n",
       "      <td>175</td>\n",
       "      <td>68</td>\n",
       "      <td>5</td>\n",
       "      <td>5</td>\n",
       "      <td>5</td>\n",
       "      <td>85</td>\n",
       "      <td>...</td>\n",
       "      <td>93</td>\n",
       "      <td>93</td>\n",
       "      <td>35</td>\n",
       "      <td>32</td>\n",
       "      <td>29</td>\n",
       "      <td>9</td>\n",
       "      <td>9</td>\n",
       "      <td>15</td>\n",
       "      <td>15</td>\n",
       "      <td>11</td>\n",
       "    </tr>\n",
       "    <tr>\n",
       "      <th>4</th>\n",
       "      <td>4</td>\n",
       "      <td>91</td>\n",
       "      <td>91</td>\n",
       "      <td>30</td>\n",
       "      <td>181</td>\n",
       "      <td>70</td>\n",
       "      <td>5</td>\n",
       "      <td>4</td>\n",
       "      <td>4</td>\n",
       "      <td>94</td>\n",
       "      <td>...</td>\n",
       "      <td>83</td>\n",
       "      <td>89</td>\n",
       "      <td>68</td>\n",
       "      <td>65</td>\n",
       "      <td>53</td>\n",
       "      <td>15</td>\n",
       "      <td>13</td>\n",
       "      <td>5</td>\n",
       "      <td>10</td>\n",
       "      <td>13</td>\n",
       "    </tr>\n",
       "    <tr>\n",
       "      <th>...</th>\n",
       "      <td>...</td>\n",
       "      <td>...</td>\n",
       "      <td>...</td>\n",
       "      <td>...</td>\n",
       "      <td>...</td>\n",
       "      <td>...</td>\n",
       "      <td>...</td>\n",
       "      <td>...</td>\n",
       "      <td>...</td>\n",
       "      <td>...</td>\n",
       "      <td>...</td>\n",
       "      <td>...</td>\n",
       "      <td>...</td>\n",
       "      <td>...</td>\n",
       "      <td>...</td>\n",
       "      <td>...</td>\n",
       "      <td>...</td>\n",
       "      <td>...</td>\n",
       "      <td>...</td>\n",
       "      <td>...</td>\n",
       "      <td>...</td>\n",
       "    </tr>\n",
       "    <tr>\n",
       "      <th>18999</th>\n",
       "      <td>18999</td>\n",
       "      <td>48</td>\n",
       "      <td>60</td>\n",
       "      <td>18</td>\n",
       "      <td>168</td>\n",
       "      <td>58</td>\n",
       "      <td>3</td>\n",
       "      <td>2</td>\n",
       "      <td>1</td>\n",
       "      <td>40</td>\n",
       "      <td>...</td>\n",
       "      <td>46</td>\n",
       "      <td>47</td>\n",
       "      <td>15</td>\n",
       "      <td>24</td>\n",
       "      <td>23</td>\n",
       "      <td>7</td>\n",
       "      <td>14</td>\n",
       "      <td>6</td>\n",
       "      <td>8</td>\n",
       "      <td>15</td>\n",
       "    </tr>\n",
       "    <tr>\n",
       "      <th>19000</th>\n",
       "      <td>19000</td>\n",
       "      <td>48</td>\n",
       "      <td>62</td>\n",
       "      <td>19</td>\n",
       "      <td>180</td>\n",
       "      <td>75</td>\n",
       "      <td>3</td>\n",
       "      <td>2</td>\n",
       "      <td>1</td>\n",
       "      <td>28</td>\n",
       "      <td>...</td>\n",
       "      <td>37</td>\n",
       "      <td>44</td>\n",
       "      <td>50</td>\n",
       "      <td>49</td>\n",
       "      <td>47</td>\n",
       "      <td>5</td>\n",
       "      <td>6</td>\n",
       "      <td>7</td>\n",
       "      <td>13</td>\n",
       "      <td>10</td>\n",
       "    </tr>\n",
       "    <tr>\n",
       "      <th>19001</th>\n",
       "      <td>19001</td>\n",
       "      <td>48</td>\n",
       "      <td>65</td>\n",
       "      <td>19</td>\n",
       "      <td>180</td>\n",
       "      <td>72</td>\n",
       "      <td>2</td>\n",
       "      <td>1</td>\n",
       "      <td>1</td>\n",
       "      <td>12</td>\n",
       "      <td>...</td>\n",
       "      <td>16</td>\n",
       "      <td>23</td>\n",
       "      <td>9</td>\n",
       "      <td>12</td>\n",
       "      <td>13</td>\n",
       "      <td>52</td>\n",
       "      <td>49</td>\n",
       "      <td>49</td>\n",
       "      <td>43</td>\n",
       "      <td>48</td>\n",
       "    </tr>\n",
       "    <tr>\n",
       "      <th>19002</th>\n",
       "      <td>19002</td>\n",
       "      <td>48</td>\n",
       "      <td>55</td>\n",
       "      <td>23</td>\n",
       "      <td>172</td>\n",
       "      <td>72</td>\n",
       "      <td>3</td>\n",
       "      <td>2</td>\n",
       "      <td>1</td>\n",
       "      <td>40</td>\n",
       "      <td>...</td>\n",
       "      <td>35</td>\n",
       "      <td>35</td>\n",
       "      <td>39</td>\n",
       "      <td>42</td>\n",
       "      <td>44</td>\n",
       "      <td>8</td>\n",
       "      <td>11</td>\n",
       "      <td>11</td>\n",
       "      <td>9</td>\n",
       "      <td>10</td>\n",
       "    </tr>\n",
       "    <tr>\n",
       "      <th>19003</th>\n",
       "      <td>19003</td>\n",
       "      <td>48</td>\n",
       "      <td>58</td>\n",
       "      <td>20</td>\n",
       "      <td>184</td>\n",
       "      <td>60</td>\n",
       "      <td>3</td>\n",
       "      <td>2</td>\n",
       "      <td>1</td>\n",
       "      <td>27</td>\n",
       "      <td>...</td>\n",
       "      <td>34</td>\n",
       "      <td>41</td>\n",
       "      <td>50</td>\n",
       "      <td>55</td>\n",
       "      <td>49</td>\n",
       "      <td>13</td>\n",
       "      <td>15</td>\n",
       "      <td>10</td>\n",
       "      <td>8</td>\n",
       "      <td>13</td>\n",
       "    </tr>\n",
       "  </tbody>\n",
       "</table>\n",
       "<p>19004 rows × 43 columns</p>\n",
       "</div>"
      ],
      "text/plain": [
       "       Unnamed: 0  overall  potential  age  height_cm  weight_kg  weak_foot  \\\n",
       "0               0       93         93   34        170         72          4   \n",
       "1               1       92         92   32        185         81          4   \n",
       "2               2       91         91   36        187         83          4   \n",
       "3               3       91         91   29        175         68          5   \n",
       "4               4       91         91   30        181         70          5   \n",
       "...           ...      ...        ...  ...        ...        ...        ...   \n",
       "18999       18999       48         60   18        168         58          3   \n",
       "19000       19000       48         62   19        180         75          3   \n",
       "19001       19001       48         65   19        180         72          2   \n",
       "19002       19002       48         55   23        172         72          3   \n",
       "19003       19003       48         58   20        184         60          3   \n",
       "\n",
       "       skill_moves  international_reputation  attacking_crossing  ...  \\\n",
       "0                4                         5                  85  ...   \n",
       "1                4                         5                  71  ...   \n",
       "2                5                         5                  87  ...   \n",
       "3                5                         5                  85  ...   \n",
       "4                4                         4                  94  ...   \n",
       "...            ...                       ...                 ...  ...   \n",
       "18999            2                         1                  40  ...   \n",
       "19000            2                         1                  28  ...   \n",
       "19001            1                         1                  12  ...   \n",
       "19002            2                         1                  40  ...   \n",
       "19003            2                         1                  27  ...   \n",
       "\n",
       "       mentality_penalties  mentality_composure  defending_marking_awareness  \\\n",
       "0                       75                   96                           20   \n",
       "1                       90                   88                           35   \n",
       "2                       88                   95                           24   \n",
       "3                       93                   93                           35   \n",
       "4                       83                   89                           68   \n",
       "...                    ...                  ...                          ...   \n",
       "18999                   46                   47                           15   \n",
       "19000                   37                   44                           50   \n",
       "19001                   16                   23                            9   \n",
       "19002                   35                   35                           39   \n",
       "19003                   34                   41                           50   \n",
       "\n",
       "       defending_standing_tackle  defending_sliding_tackle  \\\n",
       "0                             35                        24   \n",
       "1                             42                        19   \n",
       "2                             32                        24   \n",
       "3                             32                        29   \n",
       "4                             65                        53   \n",
       "...                          ...                       ...   \n",
       "18999                         24                        23   \n",
       "19000                         49                        47   \n",
       "19001                         12                        13   \n",
       "19002                         42                        44   \n",
       "19003                         55                        49   \n",
       "\n",
       "       goalkeeping_diving  goalkeeping_handling  goalkeeping_kicking  \\\n",
       "0                       6                    11                   15   \n",
       "1                      15                     6                   12   \n",
       "2                       7                    11                   15   \n",
       "3                       9                     9                   15   \n",
       "4                      15                    13                    5   \n",
       "...                   ...                   ...                  ...   \n",
       "18999                   7                    14                    6   \n",
       "19000                   5                     6                    7   \n",
       "19001                  52                    49                   49   \n",
       "19002                   8                    11                   11   \n",
       "19003                  13                    15                   10   \n",
       "\n",
       "       goalkeeping_positioning  goalkeeping_reflexes  \n",
       "0                           14                     8  \n",
       "1                            8                    10  \n",
       "2                           14                    11  \n",
       "3                           15                    11  \n",
       "4                           10                    13  \n",
       "...                        ...                   ...  \n",
       "18999                        8                    15  \n",
       "19000                       13                    10  \n",
       "19001                       43                    48  \n",
       "19002                        9                    10  \n",
       "19003                        8                    13  \n",
       "\n",
       "[19004 rows x 43 columns]"
      ]
     },
     "execution_count": 2,
     "metadata": {},
     "output_type": "execute_result"
    }
   ],
   "source": [
    "player_df = pd.read_csv('Data/fifa_players_data_for_models.csv')\n",
    "player_df"
   ]
  },
  {
   "cell_type": "code",
   "execution_count": 3,
   "metadata": {},
   "outputs": [
    {
     "data": {
      "text/html": [
       "<div>\n",
       "<style scoped>\n",
       "    .dataframe tbody tr th:only-of-type {\n",
       "        vertical-align: middle;\n",
       "    }\n",
       "\n",
       "    .dataframe tbody tr th {\n",
       "        vertical-align: top;\n",
       "    }\n",
       "\n",
       "    .dataframe thead th {\n",
       "        text-align: right;\n",
       "    }\n",
       "</style>\n",
       "<table border=\"1\" class=\"dataframe\">\n",
       "  <thead>\n",
       "    <tr style=\"text-align: right;\">\n",
       "      <th></th>\n",
       "      <th>overall</th>\n",
       "      <th>potential</th>\n",
       "      <th>age</th>\n",
       "      <th>height_cm</th>\n",
       "      <th>weight_kg</th>\n",
       "      <th>weak_foot</th>\n",
       "      <th>skill_moves</th>\n",
       "      <th>international_reputation</th>\n",
       "      <th>attacking_crossing</th>\n",
       "      <th>attacking_finishing</th>\n",
       "      <th>...</th>\n",
       "      <th>mentality_penalties</th>\n",
       "      <th>mentality_composure</th>\n",
       "      <th>defending_marking_awareness</th>\n",
       "      <th>defending_standing_tackle</th>\n",
       "      <th>defending_sliding_tackle</th>\n",
       "      <th>goalkeeping_diving</th>\n",
       "      <th>goalkeeping_handling</th>\n",
       "      <th>goalkeeping_kicking</th>\n",
       "      <th>goalkeeping_positioning</th>\n",
       "      <th>goalkeeping_reflexes</th>\n",
       "    </tr>\n",
       "  </thead>\n",
       "  <tbody>\n",
       "    <tr>\n",
       "      <th>0</th>\n",
       "      <td>93</td>\n",
       "      <td>93</td>\n",
       "      <td>34</td>\n",
       "      <td>170</td>\n",
       "      <td>72</td>\n",
       "      <td>4</td>\n",
       "      <td>4</td>\n",
       "      <td>5</td>\n",
       "      <td>85</td>\n",
       "      <td>95</td>\n",
       "      <td>...</td>\n",
       "      <td>75</td>\n",
       "      <td>96</td>\n",
       "      <td>20</td>\n",
       "      <td>35</td>\n",
       "      <td>24</td>\n",
       "      <td>6</td>\n",
       "      <td>11</td>\n",
       "      <td>15</td>\n",
       "      <td>14</td>\n",
       "      <td>8</td>\n",
       "    </tr>\n",
       "    <tr>\n",
       "      <th>1</th>\n",
       "      <td>92</td>\n",
       "      <td>92</td>\n",
       "      <td>32</td>\n",
       "      <td>185</td>\n",
       "      <td>81</td>\n",
       "      <td>4</td>\n",
       "      <td>4</td>\n",
       "      <td>5</td>\n",
       "      <td>71</td>\n",
       "      <td>95</td>\n",
       "      <td>...</td>\n",
       "      <td>90</td>\n",
       "      <td>88</td>\n",
       "      <td>35</td>\n",
       "      <td>42</td>\n",
       "      <td>19</td>\n",
       "      <td>15</td>\n",
       "      <td>6</td>\n",
       "      <td>12</td>\n",
       "      <td>8</td>\n",
       "      <td>10</td>\n",
       "    </tr>\n",
       "    <tr>\n",
       "      <th>2</th>\n",
       "      <td>91</td>\n",
       "      <td>91</td>\n",
       "      <td>36</td>\n",
       "      <td>187</td>\n",
       "      <td>83</td>\n",
       "      <td>4</td>\n",
       "      <td>5</td>\n",
       "      <td>5</td>\n",
       "      <td>87</td>\n",
       "      <td>95</td>\n",
       "      <td>...</td>\n",
       "      <td>88</td>\n",
       "      <td>95</td>\n",
       "      <td>24</td>\n",
       "      <td>32</td>\n",
       "      <td>24</td>\n",
       "      <td>7</td>\n",
       "      <td>11</td>\n",
       "      <td>15</td>\n",
       "      <td>14</td>\n",
       "      <td>11</td>\n",
       "    </tr>\n",
       "    <tr>\n",
       "      <th>3</th>\n",
       "      <td>91</td>\n",
       "      <td>91</td>\n",
       "      <td>29</td>\n",
       "      <td>175</td>\n",
       "      <td>68</td>\n",
       "      <td>5</td>\n",
       "      <td>5</td>\n",
       "      <td>5</td>\n",
       "      <td>85</td>\n",
       "      <td>83</td>\n",
       "      <td>...</td>\n",
       "      <td>93</td>\n",
       "      <td>93</td>\n",
       "      <td>35</td>\n",
       "      <td>32</td>\n",
       "      <td>29</td>\n",
       "      <td>9</td>\n",
       "      <td>9</td>\n",
       "      <td>15</td>\n",
       "      <td>15</td>\n",
       "      <td>11</td>\n",
       "    </tr>\n",
       "    <tr>\n",
       "      <th>4</th>\n",
       "      <td>91</td>\n",
       "      <td>91</td>\n",
       "      <td>30</td>\n",
       "      <td>181</td>\n",
       "      <td>70</td>\n",
       "      <td>5</td>\n",
       "      <td>4</td>\n",
       "      <td>4</td>\n",
       "      <td>94</td>\n",
       "      <td>82</td>\n",
       "      <td>...</td>\n",
       "      <td>83</td>\n",
       "      <td>89</td>\n",
       "      <td>68</td>\n",
       "      <td>65</td>\n",
       "      <td>53</td>\n",
       "      <td>15</td>\n",
       "      <td>13</td>\n",
       "      <td>5</td>\n",
       "      <td>10</td>\n",
       "      <td>13</td>\n",
       "    </tr>\n",
       "    <tr>\n",
       "      <th>...</th>\n",
       "      <td>...</td>\n",
       "      <td>...</td>\n",
       "      <td>...</td>\n",
       "      <td>...</td>\n",
       "      <td>...</td>\n",
       "      <td>...</td>\n",
       "      <td>...</td>\n",
       "      <td>...</td>\n",
       "      <td>...</td>\n",
       "      <td>...</td>\n",
       "      <td>...</td>\n",
       "      <td>...</td>\n",
       "      <td>...</td>\n",
       "      <td>...</td>\n",
       "      <td>...</td>\n",
       "      <td>...</td>\n",
       "      <td>...</td>\n",
       "      <td>...</td>\n",
       "      <td>...</td>\n",
       "      <td>...</td>\n",
       "      <td>...</td>\n",
       "    </tr>\n",
       "    <tr>\n",
       "      <th>18999</th>\n",
       "      <td>48</td>\n",
       "      <td>60</td>\n",
       "      <td>18</td>\n",
       "      <td>168</td>\n",
       "      <td>58</td>\n",
       "      <td>3</td>\n",
       "      <td>2</td>\n",
       "      <td>1</td>\n",
       "      <td>40</td>\n",
       "      <td>52</td>\n",
       "      <td>...</td>\n",
       "      <td>46</td>\n",
       "      <td>47</td>\n",
       "      <td>15</td>\n",
       "      <td>24</td>\n",
       "      <td>23</td>\n",
       "      <td>7</td>\n",
       "      <td>14</td>\n",
       "      <td>6</td>\n",
       "      <td>8</td>\n",
       "      <td>15</td>\n",
       "    </tr>\n",
       "    <tr>\n",
       "      <th>19000</th>\n",
       "      <td>48</td>\n",
       "      <td>62</td>\n",
       "      <td>19</td>\n",
       "      <td>180</td>\n",
       "      <td>75</td>\n",
       "      <td>3</td>\n",
       "      <td>2</td>\n",
       "      <td>1</td>\n",
       "      <td>28</td>\n",
       "      <td>23</td>\n",
       "      <td>...</td>\n",
       "      <td>37</td>\n",
       "      <td>44</td>\n",
       "      <td>50</td>\n",
       "      <td>49</td>\n",
       "      <td>47</td>\n",
       "      <td>5</td>\n",
       "      <td>6</td>\n",
       "      <td>7</td>\n",
       "      <td>13</td>\n",
       "      <td>10</td>\n",
       "    </tr>\n",
       "    <tr>\n",
       "      <th>19001</th>\n",
       "      <td>48</td>\n",
       "      <td>65</td>\n",
       "      <td>19</td>\n",
       "      <td>180</td>\n",
       "      <td>72</td>\n",
       "      <td>2</td>\n",
       "      <td>1</td>\n",
       "      <td>1</td>\n",
       "      <td>12</td>\n",
       "      <td>5</td>\n",
       "      <td>...</td>\n",
       "      <td>16</td>\n",
       "      <td>23</td>\n",
       "      <td>9</td>\n",
       "      <td>12</td>\n",
       "      <td>13</td>\n",
       "      <td>52</td>\n",
       "      <td>49</td>\n",
       "      <td>49</td>\n",
       "      <td>43</td>\n",
       "      <td>48</td>\n",
       "    </tr>\n",
       "    <tr>\n",
       "      <th>19002</th>\n",
       "      <td>48</td>\n",
       "      <td>55</td>\n",
       "      <td>23</td>\n",
       "      <td>172</td>\n",
       "      <td>72</td>\n",
       "      <td>3</td>\n",
       "      <td>2</td>\n",
       "      <td>1</td>\n",
       "      <td>40</td>\n",
       "      <td>29</td>\n",
       "      <td>...</td>\n",
       "      <td>35</td>\n",
       "      <td>35</td>\n",
       "      <td>39</td>\n",
       "      <td>42</td>\n",
       "      <td>44</td>\n",
       "      <td>8</td>\n",
       "      <td>11</td>\n",
       "      <td>11</td>\n",
       "      <td>9</td>\n",
       "      <td>10</td>\n",
       "    </tr>\n",
       "    <tr>\n",
       "      <th>19003</th>\n",
       "      <td>48</td>\n",
       "      <td>58</td>\n",
       "      <td>20</td>\n",
       "      <td>184</td>\n",
       "      <td>60</td>\n",
       "      <td>3</td>\n",
       "      <td>2</td>\n",
       "      <td>1</td>\n",
       "      <td>27</td>\n",
       "      <td>19</td>\n",
       "      <td>...</td>\n",
       "      <td>34</td>\n",
       "      <td>41</td>\n",
       "      <td>50</td>\n",
       "      <td>55</td>\n",
       "      <td>49</td>\n",
       "      <td>13</td>\n",
       "      <td>15</td>\n",
       "      <td>10</td>\n",
       "      <td>8</td>\n",
       "      <td>13</td>\n",
       "    </tr>\n",
       "  </tbody>\n",
       "</table>\n",
       "<p>19004 rows × 42 columns</p>\n",
       "</div>"
      ],
      "text/plain": [
       "       overall  potential  age  height_cm  weight_kg  weak_foot  skill_moves  \\\n",
       "0           93         93   34        170         72          4            4   \n",
       "1           92         92   32        185         81          4            4   \n",
       "2           91         91   36        187         83          4            5   \n",
       "3           91         91   29        175         68          5            5   \n",
       "4           91         91   30        181         70          5            4   \n",
       "...        ...        ...  ...        ...        ...        ...          ...   \n",
       "18999       48         60   18        168         58          3            2   \n",
       "19000       48         62   19        180         75          3            2   \n",
       "19001       48         65   19        180         72          2            1   \n",
       "19002       48         55   23        172         72          3            2   \n",
       "19003       48         58   20        184         60          3            2   \n",
       "\n",
       "       international_reputation  attacking_crossing  attacking_finishing  ...  \\\n",
       "0                             5                  85                   95  ...   \n",
       "1                             5                  71                   95  ...   \n",
       "2                             5                  87                   95  ...   \n",
       "3                             5                  85                   83  ...   \n",
       "4                             4                  94                   82  ...   \n",
       "...                         ...                 ...                  ...  ...   \n",
       "18999                         1                  40                   52  ...   \n",
       "19000                         1                  28                   23  ...   \n",
       "19001                         1                  12                    5  ...   \n",
       "19002                         1                  40                   29  ...   \n",
       "19003                         1                  27                   19  ...   \n",
       "\n",
       "       mentality_penalties  mentality_composure  defending_marking_awareness  \\\n",
       "0                       75                   96                           20   \n",
       "1                       90                   88                           35   \n",
       "2                       88                   95                           24   \n",
       "3                       93                   93                           35   \n",
       "4                       83                   89                           68   \n",
       "...                    ...                  ...                          ...   \n",
       "18999                   46                   47                           15   \n",
       "19000                   37                   44                           50   \n",
       "19001                   16                   23                            9   \n",
       "19002                   35                   35                           39   \n",
       "19003                   34                   41                           50   \n",
       "\n",
       "       defending_standing_tackle  defending_sliding_tackle  \\\n",
       "0                             35                        24   \n",
       "1                             42                        19   \n",
       "2                             32                        24   \n",
       "3                             32                        29   \n",
       "4                             65                        53   \n",
       "...                          ...                       ...   \n",
       "18999                         24                        23   \n",
       "19000                         49                        47   \n",
       "19001                         12                        13   \n",
       "19002                         42                        44   \n",
       "19003                         55                        49   \n",
       "\n",
       "       goalkeeping_diving  goalkeeping_handling  goalkeeping_kicking  \\\n",
       "0                       6                    11                   15   \n",
       "1                      15                     6                   12   \n",
       "2                       7                    11                   15   \n",
       "3                       9                     9                   15   \n",
       "4                      15                    13                    5   \n",
       "...                   ...                   ...                  ...   \n",
       "18999                   7                    14                    6   \n",
       "19000                   5                     6                    7   \n",
       "19001                  52                    49                   49   \n",
       "19002                   8                    11                   11   \n",
       "19003                  13                    15                   10   \n",
       "\n",
       "       goalkeeping_positioning  goalkeeping_reflexes  \n",
       "0                           14                     8  \n",
       "1                            8                    10  \n",
       "2                           14                    11  \n",
       "3                           15                    11  \n",
       "4                           10                    13  \n",
       "...                        ...                   ...  \n",
       "18999                        8                    15  \n",
       "19000                       13                    10  \n",
       "19001                       43                    48  \n",
       "19002                        9                    10  \n",
       "19003                        8                    13  \n",
       "\n",
       "[19004 rows x 42 columns]"
      ]
     },
     "execution_count": 3,
     "metadata": {},
     "output_type": "execute_result"
    }
   ],
   "source": [
    "player_df.drop('Unnamed: 0', axis=1, inplace=True)\n",
    "player_df"
   ]
  },
  {
   "cell_type": "code",
   "execution_count": 4,
   "metadata": {},
   "outputs": [
    {
     "data": {
      "text/plain": [
       "overall                        0\n",
       "potential                      0\n",
       "age                            0\n",
       "height_cm                      0\n",
       "weight_kg                      0\n",
       "weak_foot                      0\n",
       "skill_moves                    0\n",
       "international_reputation       0\n",
       "attacking_crossing             0\n",
       "attacking_finishing            0\n",
       "attacking_heading_accuracy     0\n",
       "attacking_short_passing        0\n",
       "attacking_volleys              0\n",
       "skill_dribbling                0\n",
       "skill_curve                    0\n",
       "skill_fk_accuracy              0\n",
       "skill_long_passing             0\n",
       "skill_ball_control             0\n",
       "movement_acceleration          0\n",
       "movement_sprint_speed          0\n",
       "movement_agility               0\n",
       "movement_reactions             0\n",
       "movement_balance               0\n",
       "power_shot_power               0\n",
       "power_jumping                  0\n",
       "power_stamina                  0\n",
       "power_strength                 0\n",
       "power_long_shots               0\n",
       "mentality_aggression           0\n",
       "mentality_interceptions        0\n",
       "mentality_positioning          0\n",
       "mentality_vision               0\n",
       "mentality_penalties            0\n",
       "mentality_composure            0\n",
       "defending_marking_awareness    0\n",
       "defending_standing_tackle      0\n",
       "defending_sliding_tackle       0\n",
       "goalkeeping_diving             0\n",
       "goalkeeping_handling           0\n",
       "goalkeeping_kicking            0\n",
       "goalkeeping_positioning        0\n",
       "goalkeeping_reflexes           0\n",
       "dtype: int64"
      ]
     },
     "execution_count": 4,
     "metadata": {},
     "output_type": "execute_result"
    }
   ],
   "source": [
    "player_df.isna().sum()"
   ]
  },
  {
   "cell_type": "code",
   "execution_count": 5,
   "metadata": {},
   "outputs": [],
   "source": [
    "# Setting features and target\n",
    "\n",
    "# Features\n",
    "X = player_df.drop('overall', axis=1)\n",
    "# Target\n",
    "y = player_df['overall']"
   ]
  },
  {
   "cell_type": "code",
   "execution_count": 6,
   "metadata": {},
   "outputs": [],
   "source": [
    "# Split the data into training and testing sets (test_size=0.25, random_state=42)\n",
    "from sklearn.model_selection import train_test_split\n",
    "X_train, X_test, y_train, y_test = train_test_split(X, y, test_size=0.25, random_state=42)"
   ]
  },
  {
   "cell_type": "code",
   "execution_count": 7,
   "metadata": {},
   "outputs": [
    {
     "data": {
      "image/png": "[encoded data removed]",
      "text/plain": [
       "<Figure size 1080x504 with 1 Axes>"
      ]
     },
     "metadata": {
      "needs_background": "light"
     },
     "output_type": "display_data"
    }
   ],
   "source": [
    "# Plot the data\n",
    "\n",
    "plt.figure(figsize=(15, 7))\n",
    "\n",
    "plt.plot(X_train['potential'], linestyle='None',\n",
    "         marker='.', markersize=3.0, label='X_train data')\n",
    "plt.plot(X_test['potential'], linestyle='None',\n",
    "         marker='.', markersize=3.0, label='X_test data')\n",
    "\n",
    "# Set the title and axis label\n",
    "plt.title(\"Visualising Train and Test Datasets (Potential Column)\", fontsize=14)\n",
    "plt.xlabel('Num of Players', fontsize=12)\n",
    "plt.ylabel('Potential', fontsize=12)\n",
    "\n",
    "# Display the plot\n",
    "plt.legend()\n",
    "plt.show()"
   ]
  },
  {
   "cell_type": "code",
   "execution_count": 8,
   "metadata": {},
   "outputs": [
    {
     "name": "stdout",
     "output_type": "stream",
     "text": [
      "Length of training data 14253\n",
      "Length of testing data 4751\n"
     ]
    }
   ],
   "source": [
    "print(\"Length of training data\", len(X_train))\n",
    "print(\"Length of testing data\", len(X_test))"
   ]
  },
  {
   "cell_type": "markdown",
   "metadata": {},
   "source": [
    "## Linear Regression Model"
   ]
  },
  {
   "cell_type": "markdown",
   "metadata": {},
   "source": [
    "### Base model"
   ]
  },
  {
   "cell_type": "code",
   "execution_count": 9,
   "metadata": {},
   "outputs": [
    {
     "data": {
      "text/plain": [
       "LinearRegression()"
      ]
     },
     "execution_count": 9,
     "metadata": {},
     "output_type": "execute_result"
    }
   ],
   "source": [
    "from sklearn.linear_model import LinearRegression\n",
    "\n",
    "linreg = LinearRegression()\n",
    "linreg.fit(X_train, y_train)"
   ]
  },
  {
   "cell_type": "code",
   "execution_count": 10,
   "metadata": {},
   "outputs": [],
   "source": [
    "y_pred_train = linreg.predict(X_train)\n",
    "y_pred_test = linreg.predict(X_test)"
   ]
  },
  {
   "cell_type": "code",
   "execution_count": 11,
   "metadata": {},
   "outputs": [
    {
     "name": "stdout",
     "output_type": "stream",
     "text": [
      "0.9318213787493443\n"
     ]
    }
   ],
   "source": [
    "# Cross validation score\n",
    "from sklearn.model_selection import cross_val_score\n",
    "\n",
    "cv = cross_val_score(linreg, X_train, y_train, cv=5)\n",
    "cv_score = cv.mean()\n",
    "print(cv_score)"
   ]
  },
  {
   "cell_type": "code",
   "execution_count": 12,
   "metadata": {},
   "outputs": [
    {
     "name": "stdout",
     "output_type": "stream",
     "text": [
      "Linear Regression R2 - Training: 0.9323402899611049\n",
      "Linear Regression R2 - Testing: 0.9317821951689985\n",
      "Linear Regression RMSE - Training: 1.777792377669288\n",
      "Linear Regression RMSE - Testing: 1.7784755011364544\n"
     ]
    }
   ],
   "source": [
    "from sklearn.metrics import r2_score, mean_squared_error\n",
    "\n",
    "linreg_R2_training = r2_score(y_train, y_pred_train)\n",
    "linreg_R2_testing = r2_score(y_test, y_pred_test)\n",
    "print('Linear Regression R2 - Training:', linreg_R2_training)\n",
    "print('Linear Regression R2 - Testing:', linreg_R2_testing)\n",
    "\n",
    "linreg_rmse_training = mean_squared_error(y_train, y_pred_train, squared=False)\n",
    "linreg_rmse_testing = mean_squared_error(y_test, y_pred_test, squared=False)\n",
    "print('Linear Regression RMSE - Training:', linreg_rmse_training)\n",
    "print('Linear Regression RMSE - Testing:', linreg_rmse_testing)"
   ]
  },
  {
   "cell_type": "code",
   "execution_count": 13,
   "metadata": {},
   "outputs": [
    {
     "data": {
      "image/png": "[encoded data removed]",
      "text/plain": [
       "<Figure size 432x288 with 1 Axes>"
      ]
     },
     "metadata": {
      "needs_background": "light"
     },
     "output_type": "display_data"
    }
   ],
   "source": [
    "plt.hist(y_test, color='blue', label='Actual Overall', alpha=0.5)\n",
    "plt.hist(y_pred_test, color='red', label='Predicted Overall', alpha=0.5)\n",
    "plt.xlabel('Overall Rating')\n",
    "plt.ylabel('Num of Players')\n",
    "plt.legend()\n",
    "plt.show()"
   ]
  },
  {
   "cell_type": "markdown",
   "metadata": {},
   "source": [
    "## Decision Tree Model"
   ]
  },
  {
   "cell_type": "code",
   "execution_count": 14,
   "metadata": {},
   "outputs": [
    {
     "data": {
      "text/plain": [
       "DecisionTreeRegressor()"
      ]
     },
     "execution_count": 14,
     "metadata": {},
     "output_type": "execute_result"
    }
   ],
   "source": [
    "from sklearn.tree import DecisionTreeRegressor\n",
    "\n",
    "dt = DecisionTreeRegressor()\n",
    "dt.fit(X_train, y_train)"
   ]
  },
  {
   "cell_type": "code",
   "execution_count": 15,
   "metadata": {},
   "outputs": [],
   "source": [
    "dt_y_pred_train = dt.predict(X_train)\n",
    "dt_y_pred_test = dt.predict(X_test)"
   ]
  },
  {
   "cell_type": "code",
   "execution_count": 16,
   "metadata": {},
   "outputs": [
    {
     "name": "stdout",
     "output_type": "stream",
     "text": [
      "0.9250937435497855\n"
     ]
    }
   ],
   "source": [
    "# Cross validation score\n",
    "from sklearn.model_selection import cross_val_score\n",
    "\n",
    "cv = cross_val_score(dt, X_train, y_train, cv=5)\n",
    "cv_score = cv.mean()\n",
    "print(cv_score)"
   ]
  },
  {
   "cell_type": "code",
   "execution_count": 17,
   "metadata": {},
   "outputs": [
    {
     "name": "stdout",
     "output_type": "stream",
     "text": [
      "Decision Tree Regression R2 - Training: 1.0\n",
      "Decision Tree Regression R2 - Testing: 0.9290960939958554\n",
      "Descision Tree Regression RMSE - Training: 0.0\n",
      "Decision Tree Regression RMSE - Testing: 1.8131515152284796\n"
     ]
    }
   ],
   "source": [
    "from sklearn.metrics import r2_score, mean_squared_error\n",
    "\n",
    "dt_R2_training = r2_score(y_train, dt_y_pred_train)\n",
    "dt_R2_testing = r2_score(y_test, dt_y_pred_test)\n",
    "print('Decision Tree Regression R2 - Training:', dt_R2_training)\n",
    "print('Decision Tree Regression R2 - Testing:', dt_R2_testing)\n",
    "\n",
    "dt_rmse_training = mean_squared_error(y_train, dt_y_pred_train, squared=False)\n",
    "dt_rmse_testing = mean_squared_error(y_test, dt_y_pred_test, squared=False)\n",
    "print('Descision Tree Regression RMSE - Training:', dt_rmse_training)\n",
    "print('Decision Tree Regression RMSE - Testing:', dt_rmse_testing)"
   ]
  },
  {
   "cell_type": "code",
   "execution_count": 18,
   "metadata": {},
   "outputs": [
    {
     "data": {
      "image/png": "[encoded data removed]",
      "text/plain": [
       "<Figure size 432x288 with 1 Axes>"
      ]
     },
     "metadata": {
      "needs_background": "light"
     },
     "output_type": "display_data"
    }
   ],
   "source": [
    "plt.hist(y_test, color='blue', label='Actual Overall', alpha=0.5)\n",
    "plt.hist(dt_y_pred_test, color='red', label='Predicted Overall', alpha=0.5)\n",
    "plt.xlabel('Overall Rating')\n",
    "plt.ylabel('Num of Players')\n",
    "plt.legend()\n",
    "plt.show()"
   ]
  },
  {
   "cell_type": "markdown",
   "metadata": {},
   "source": [
    "## Random Forest Model"
   ]
  },
  {
   "cell_type": "code",
   "execution_count": 19,
   "metadata": {},
   "outputs": [
    {
     "data": {
      "text/plain": [
       "RandomForestRegressor(max_depth=7, max_features=10, n_estimators=1000,\n",
       "                      random_state=42)"
      ]
     },
     "execution_count": 19,
     "metadata": {},
     "output_type": "execute_result"
    }
   ],
   "source": [
    "from sklearn.ensemble import RandomForestRegressor\n",
    "\n",
    "rf = RandomForestRegressor(\n",
    "        n_estimators = 1000, max_features=10, max_depth=7, random_state=42)\n",
    "rf.fit(X_train, y_train)"
   ]
  },
  {
   "cell_type": "code",
   "execution_count": 20,
   "metadata": {},
   "outputs": [],
   "source": [
    "rf_y_pred_train = rf.predict(X_train)\n",
    "rf_y_pred_test = rf.predict(X_test)"
   ]
  },
  {
   "cell_type": "code",
   "execution_count": 21,
   "metadata": {},
   "outputs": [
    {
     "name": "stdout",
     "output_type": "stream",
     "text": [
      "0.9476336993957026\n"
     ]
    }
   ],
   "source": [
    "# Cross validation score\n",
    "from sklearn.model_selection import cross_val_score\n",
    "\n",
    "cv = cross_val_score(rf, X_train, y_train, cv=5)\n",
    "cv_score = cv.mean()\n",
    "print(cv_score)"
   ]
  },
  {
   "cell_type": "code",
   "execution_count": 22,
   "metadata": {},
   "outputs": [
    {
     "name": "stdout",
     "output_type": "stream",
     "text": [
      "Random Forest Regression R2 - Training: 0.9521080043878505\n",
      "Random Forest Regression R2 - Testing: 0.9463425527613615\n",
      "Random Forest Regression RMSE - Training: 1.4957101496336946\n",
      "Random Forest Regression RMSE - Testing: 1.5772989730715963\n"
     ]
    }
   ],
   "source": [
    "from sklearn.metrics import r2_score, mean_squared_error\n",
    "\n",
    "rf_R2_training = r2_score(y_train, rf_y_pred_train)\n",
    "rf_R2_testing = r2_score(y_test, rf_y_pred_test)\n",
    "print('Random Forest Regression R2 - Training:', rf_R2_training)\n",
    "print('Random Forest Regression R2 - Testing:', rf_R2_testing)\n",
    "\n",
    "rf_rmse_training = mean_squared_error(y_train, rf_y_pred_train, squared=False)\n",
    "rf_rmse_testing = mean_squared_error(y_test, rf_y_pred_test, squared=False)\n",
    "print('Random Forest Regression RMSE - Training:', rf_rmse_training)\n",
    "print('Random Forest Regression RMSE - Testing:', rf_rmse_testing)"
   ]
  },
  {
   "cell_type": "code",
   "execution_count": 23,
   "metadata": {},
   "outputs": [
    {
     "data": {
      "image/png": "[encoded data removed]",
      "text/plain": [
       "<Figure size 432x288 with 1 Axes>"
      ]
     },
     "metadata": {
      "needs_background": "light"
     },
     "output_type": "display_data"
    }
   ],
   "source": [
    "plt.hist(y_test, color='blue', label='Actual Overall', alpha=0.5)\n",
    "plt.hist(rf_y_pred_test, color='red', label='Predicted Overall', alpha=0.5)\n",
    "plt.xlabel('Overall Rating')\n",
    "plt.ylabel('Num of Players')\n",
    "plt.legend()\n",
    "plt.show()"
   ]
  },
  {
   "cell_type": "markdown",
   "metadata": {},
   "source": [
    "## Random Forest Model with Random Search"
   ]
  },
  {
   "cell_type": "code",
   "execution_count": 24,
   "metadata": {},
   "outputs": [],
   "source": [
    "from sklearn.model_selection import RandomizedSearchCV\n",
    "\n",
    "param_grid = {\n",
    "    'bootstrap': [True],\n",
    "    'max_depth': [50, 100, 200, 300],\n",
    "    'n_estimators': list(range(50, 1000, 50))\n",
    "}"
   ]
  },
  {
   "cell_type": "code",
   "execution_count": 25,
   "metadata": {},
   "outputs": [
    {
     "data": {
      "text/plain": [
       "RandomizedSearchCV(cv=5, estimator=RandomForestRegressor(), n_jobs=-1,\n",
       "                   param_distributions={'bootstrap': [True],\n",
       "                                        'max_depth': [50, 100, 200, 300],\n",
       "                                        'n_estimators': [50, 100, 150, 200, 250,\n",
       "                                                         300, 350, 400, 450,\n",
       "                                                         500, 550, 600, 650,\n",
       "                                                         700, 750, 800, 850,\n",
       "                                                         900, 950]})"
      ]
     },
     "execution_count": 25,
     "metadata": {},
     "output_type": "execute_result"
    }
   ],
   "source": [
    "# Runtime (7min)\n",
    "rf = RandomForestRegressor()\n",
    "\n",
    "rf_random = RandomizedSearchCV(estimator=rf, param_distributions=param_grid, cv=5, n_jobs=-1)\n",
    "rf_random.fit(X_train, y_train)"
   ]
  },
  {
   "cell_type": "code",
   "execution_count": 26,
   "metadata": {},
   "outputs": [
    {
     "data": {
      "text/plain": [
       "0.9764746476059288"
      ]
     },
     "execution_count": 26,
     "metadata": {},
     "output_type": "execute_result"
    }
   ],
   "source": [
    "rf_random.best_score_"
   ]
  },
  {
   "cell_type": "code",
   "execution_count": 27,
   "metadata": {},
   "outputs": [
    {
     "data": {
      "text/plain": [
       "{'n_estimators': 900, 'max_depth': 300, 'bootstrap': True}"
      ]
     },
     "execution_count": 27,
     "metadata": {},
     "output_type": "execute_result"
    }
   ],
   "source": [
    "rf_random.best_params_"
   ]
  },
  {
   "cell_type": "code",
   "execution_count": 28,
   "metadata": {},
   "outputs": [],
   "source": [
    "rf_random_y_pred_train = rf_random.predict(X_train)\n",
    "rf_random_y_pred_test = rf_random.predict(X_test)"
   ]
  },
  {
   "cell_type": "code",
   "execution_count": 29,
   "metadata": {},
   "outputs": [
    {
     "name": "stdout",
     "output_type": "stream",
     "text": [
      "0.976412472127454\n"
     ]
    }
   ],
   "source": [
    "# Cross validation score (runtime: 33min)\n",
    "from sklearn.model_selection import cross_val_score\n",
    "\n",
    "cv = cross_val_score(rf_random, X_train, y_train, cv=5)\n",
    "cv_score = cv.mean()\n",
    "print(cv_score)"
   ]
  },
  {
   "cell_type": "code",
   "execution_count": 30,
   "metadata": {},
   "outputs": [
    {
     "name": "stdout",
     "output_type": "stream",
     "text": [
      "Random Forest Regression with Random Search R2 - Training: 0.9969537848863045\n",
      "Random Forest Regression with Random Search R2 - Testing: 0.9764616855181628\n",
      "Random Forest Regression with Random Search RMSE - Training: 0.3772213438925303\n",
      "Random Forest Regression with Random Search RMSE - Testing: 1.0446882195895917\n"
     ]
    }
   ],
   "source": [
    "from sklearn.metrics import r2_score, mean_squared_error\n",
    "\n",
    "rf_random_R2_training = r2_score(y_train, rf_random_y_pred_train)\n",
    "rf_random_R2_testing = r2_score(y_test, rf_random_y_pred_test)\n",
    "print('Random Forest Regression with Random Search R2 - Training:', rf_random_R2_training)\n",
    "print('Random Forest Regression with Random Search R2 - Testing:', rf_random_R2_testing)\n",
    "\n",
    "rf_random_rmse_training = mean_squared_error(y_train, rf_random_y_pred_train, squared=False)\n",
    "rf_random_rmse_testing = mean_squared_error(y_test, rf_random_y_pred_test, squared=False)\n",
    "print('Random Forest Regression with Random Search RMSE - Training:', rf_random_rmse_training)\n",
    "print('Random Forest Regression with Random Search RMSE - Testing:', rf_random_rmse_testing)"
   ]
  },
  {
   "cell_type": "code",
   "execution_count": 31,
   "metadata": {},
   "outputs": [
    {
     "data": {
      "image/png": "[encoded data removed]",
      "text/plain": [
       "<Figure size 432x288 with 1 Axes>"
      ]
     },
     "metadata": {
      "needs_background": "light"
     },
     "output_type": "display_data"
    }
   ],
   "source": [
    "plt.hist(y_test, color='blue', label='Actual Overall', alpha=0.5)\n",
    "plt.hist(rf_random_y_pred_test, color='red', label='Predicted Overall', alpha=0.5)\n",
    "plt.xlabel('Overall Rating')\n",
    "plt.ylabel('Num of Players')\n",
    "plt.legend()\n",
    "plt.show()"
   ]
  },
  {
   "cell_type": "markdown",
   "metadata": {},
   "source": [
    "### XGBoost with Random Search"
   ]
  },
  {
   "cell_type": "code",
   "execution_count": 32,
   "metadata": {},
   "outputs": [],
   "source": [
    "from sklearn.model_selection import RandomizedSearchCV\n",
    "\n",
    "param_grid = {\n",
    "    'bootstrap': [True],\n",
    "    'max_depth': [50, 100, 200, 300],\n",
    "    'n_estimators': list(range(50, 1000, 50))\n",
    "}"
   ]
  },
  {
   "cell_type": "code",
   "execution_count": 33,
   "metadata": {},
   "outputs": [
    {
     "name": "stdout",
     "output_type": "stream",
     "text": [
      "[20:12:09] WARNING: /Users/runner/miniforge3/conda-bld/xgboost_1598185652448/work/src/learner.cc:516: \n",
      "Parameters: { bootstrap } might not be used.\n",
      "\n",
      "  This may not be accurate due to some parameters are only used in language bindings but\n",
      "  passed down to XGBoost core.  Or some parameters are not used but slip through this\n",
      "  verification. Please open an issue if you find above cases.\n",
      "\n",
      "\n"
     ]
    },
    {
     "data": {
      "text/plain": [
       "RandomizedSearchCV(cv=5,\n",
       "                   estimator=XGBRegressor(base_score=None, booster=None,\n",
       "                                          colsample_bylevel=None,\n",
       "                                          colsample_bynode=None,\n",
       "                                          colsample_bytree=None, gamma=None,\n",
       "                                          gpu_id=None, importance_type='gain',\n",
       "                                          interaction_constraints=None,\n",
       "                                          learning_rate=None,\n",
       "                                          max_delta_step=None, max_depth=None,\n",
       "                                          min_child_weight=None, missing=nan,\n",
       "                                          monotone_constraints=None,\n",
       "                                          n_estimators=100, n_jobs=None,\n",
       "                                          num_parallel_tree=None,\n",
       "                                          random_state=None, reg_alpha=None,\n",
       "                                          reg_lambda=None,\n",
       "                                          scale_pos_weight=None, subsample=None,\n",
       "                                          tree_method=None,\n",
       "                                          validate_parameters=None,\n",
       "                                          verbosity=None),\n",
       "                   n_jobs=-1,\n",
       "                   param_distributions={'bootstrap': [True],\n",
       "                                        'max_depth': [50, 100, 200, 300],\n",
       "                                        'n_estimators': [50, 100, 150, 200, 250,\n",
       "                                                         300, 350, 400, 450,\n",
       "                                                         500, 550, 600, 650,\n",
       "                                                         700, 750, 800, 850,\n",
       "                                                         900, 950]})"
      ]
     },
     "execution_count": 33,
     "metadata": {},
     "output_type": "execute_result"
    }
   ],
   "source": [
    "from xgboost import XGBRegressor\n",
    "xgb = XGBRegressor()\n",
    "\n",
    "xgb_random = RandomizedSearchCV(estimator=xgb, param_distributions=param_grid, cv=5, n_jobs=-1)\n",
    "xgb_random.fit(X_train, y_train)"
   ]
  },
  {
   "cell_type": "code",
   "execution_count": 34,
   "metadata": {},
   "outputs": [
    {
     "data": {
      "text/plain": [
       "0.9714670189633926"
      ]
     },
     "execution_count": 34,
     "metadata": {},
     "output_type": "execute_result"
    }
   ],
   "source": [
    "xgb_random.best_score_"
   ]
  },
  {
   "cell_type": "code",
   "execution_count": 35,
   "metadata": {},
   "outputs": [
    {
     "data": {
      "text/plain": [
       "{'n_estimators': 700, 'max_depth': 50, 'bootstrap': True}"
      ]
     },
     "execution_count": 35,
     "metadata": {},
     "output_type": "execute_result"
    }
   ],
   "source": [
    "xgb_random.best_params_"
   ]
  },
  {
   "cell_type": "code",
   "execution_count": 36,
   "metadata": {},
   "outputs": [],
   "source": [
    "xgb_random_y_pred_train = xgb_random.predict(X_train)\n",
    "xgb_random_y_pred_test = xgb_random.predict(X_test)"
   ]
  },
  {
   "cell_type": "code",
   "execution_count": 37,
   "metadata": {},
   "outputs": [
    {
     "name": "stdout",
     "output_type": "stream",
     "text": [
      "[20:13:04] WARNING: /Users/runner/miniforge3/conda-bld/xgboost_1598185652448/work/src/learner.cc:516: \n",
      "Parameters: { bootstrap } might not be used.\n",
      "\n",
      "  This may not be accurate due to some parameters are only used in language bindings but\n",
      "  passed down to XGBoost core.  Or some parameters are not used but slip through this\n",
      "  verification. Please open an issue if you find above cases.\n",
      "\n",
      "\n",
      "[20:13:57] WARNING: /Users/runner/miniforge3/conda-bld/xgboost_1598185652448/work/src/learner.cc:516: \n",
      "Parameters: { bootstrap } might not be used.\n",
      "\n",
      "  This may not be accurate due to some parameters are only used in language bindings but\n",
      "  passed down to XGBoost core.  Or some parameters are not used but slip through this\n",
      "  verification. Please open an issue if you find above cases.\n",
      "\n",
      "\n",
      "[20:14:52] WARNING: /Users/runner/miniforge3/conda-bld/xgboost_1598185652448/work/src/learner.cc:516: \n",
      "Parameters: { bootstrap } might not be used.\n",
      "\n",
      "  This may not be accurate due to some parameters are only used in language bindings but\n",
      "  passed down to XGBoost core.  Or some parameters are not used but slip through this\n",
      "  verification. Please open an issue if you find above cases.\n",
      "\n",
      "\n",
      "[20:15:44] WARNING: /Users/runner/miniforge3/conda-bld/xgboost_1598185652448/work/src/learner.cc:516: \n",
      "Parameters: { bootstrap } might not be used.\n",
      "\n",
      "  This may not be accurate due to some parameters are only used in language bindings but\n",
      "  passed down to XGBoost core.  Or some parameters are not used but slip through this\n",
      "  verification. Please open an issue if you find above cases.\n",
      "\n",
      "\n",
      "[20:16:45] WARNING: /Users/runner/miniforge3/conda-bld/xgboost_1598185652448/work/src/learner.cc:516: \n",
      "Parameters: { bootstrap } might not be used.\n",
      "\n",
      "  This may not be accurate due to some parameters are only used in language bindings but\n",
      "  passed down to XGBoost core.  Or some parameters are not used but slip through this\n",
      "  verification. Please open an issue if you find above cases.\n",
      "\n",
      "\n",
      "0.9714662407572785\n"
     ]
    }
   ],
   "source": [
    "# Cross validation score (runtime: 10min)\n",
    "from sklearn.model_selection import cross_val_score\n",
    "\n",
    "cv = cross_val_score(xgb_random, X_train, y_train, cv=5)\n",
    "cv_score = cv.mean()\n",
    "print(cv_score)"
   ]
  },
  {
   "cell_type": "code",
   "execution_count": 38,
   "metadata": {},
   "outputs": [
    {
     "name": "stdout",
     "output_type": "stream",
     "text": [
      "XGBoost with Random Search R2 - Training: 0.9999999963683612\n",
      "XGBoost with Random Search R2 - Testing: 0.973058554639656\n",
      "XGBoost with Random Search RMSE - Training: 0.00041187676994207644\n",
      "XGBoost with Random Search RMSE - Testing: 1.1176593677200812\n"
     ]
    }
   ],
   "source": [
    "from sklearn.metrics import r2_score, mean_squared_error\n",
    "\n",
    "xgb_random_R2_training = r2_score(y_train, xgb_random_y_pred_train)\n",
    "xgb_random_R2_testing = r2_score(y_test, xgb_random_y_pred_test)\n",
    "print('XGBoost with Random Search R2 - Training:', xgb_random_R2_training)\n",
    "print('XGBoost with Random Search R2 - Testing:', xgb_random_R2_testing)\n",
    "\n",
    "xgb_random_rmse_training = mean_squared_error(y_train, xgb_random_y_pred_train, squared=False)\n",
    "xgb_random_rmse_testing = mean_squared_error(y_test, xgb_random_y_pred_test, squared=False)\n",
    "print('XGBoost with Random Search RMSE - Training:', xgb_random_rmse_training)\n",
    "print('XGBoost with Random Search RMSE - Testing:', xgb_random_rmse_testing)"
   ]
  },
  {
   "cell_type": "code",
   "execution_count": 39,
   "metadata": {},
   "outputs": [
    {
     "data": {
      "image/png": "[encoded data removed]",
      "text/plain": [
       "<Figure size 432x288 with 1 Axes>"
      ]
     },
     "metadata": {
      "needs_background": "light"
     },
     "output_type": "display_data"
    }
   ],
   "source": [
    "plt.hist(y_test, color='blue', label='Actual Overall', alpha=0.5)\n",
    "plt.hist(xgb_random_y_pred_test, color='red', label='Predicted Overall', alpha=0.5)\n",
    "plt.xlabel('Overall Rating')\n",
    "plt.ylabel('Num of Players')\n",
    "plt.legend()\n",
    "plt.show()"
   ]
  },
  {
   "cell_type": "markdown",
   "metadata": {},
   "source": [
    "## Support Vector Regression Model"
   ]
  },
  {
   "cell_type": "code",
   "execution_count": 60,
   "metadata": {},
   "outputs": [],
   "source": [
    "from sklearn.preprocessing import RobustScaler\n",
    "\n",
    "scale = RobustScaler()\n",
    "X_train_scale = scale.fit_transform(X_train)\n",
    "X_test_scale = scale.transform(X_test)"
   ]
  },
  {
   "cell_type": "code",
   "execution_count": 61,
   "metadata": {},
   "outputs": [
    {
     "data": {
      "text/plain": [
       "SVR()"
      ]
     },
     "execution_count": 61,
     "metadata": {},
     "output_type": "execute_result"
    }
   ],
   "source": [
    "from sklearn.svm import SVR\n",
    "\n",
    "svr = SVR(kernel='rbf')\n",
    "svr.fit(X_train_scale, y_train)"
   ]
  },
  {
   "cell_type": "code",
   "execution_count": 62,
   "metadata": {},
   "outputs": [],
   "source": [
    "svr_y_pred_train = svr.predict(X_train_scale)\n",
    "svr_y_pred_test = svr.predict(X_test_scale)"
   ]
  },
  {
   "cell_type": "code",
   "execution_count": 63,
   "metadata": {},
   "outputs": [
    {
     "name": "stdout",
     "output_type": "stream",
     "text": [
      "0.9767211396609541\n"
     ]
    }
   ],
   "source": [
    "# Cross validation score\n",
    "from sklearn.model_selection import cross_val_score\n",
    "\n",
    "cv = cross_val_score(svr, X_train, y_train, cv=5)\n",
    "cv_score = cv.mean()\n",
    "print(cv_score)"
   ]
  },
  {
   "cell_type": "code",
   "execution_count": 64,
   "metadata": {},
   "outputs": [
    {
     "name": "stdout",
     "output_type": "stream",
     "text": [
      "Support Vector Regression R2 - Training: 0.980888942645615\n",
      "Support Vector Regression R2 - Testing: 0.9790370612443922\n",
      "Support Vector Regression RMSE - Training: 0.944840132014255\n",
      "Support Vector Regression RMSE - Testing: 0.9858823683940229\n"
     ]
    }
   ],
   "source": [
    "from sklearn.metrics import r2_score, mean_squared_error\n",
    "\n",
    "svr_R2_training = r2_score(y_train, svr_y_pred_train)\n",
    "svr_R2_testing = r2_score(y_test, svr_y_pred_test)\n",
    "print('Support Vector Regression R2 - Training:', svr_R2_training)\n",
    "print('Support Vector Regression R2 - Testing:', svr_R2_testing)\n",
    "\n",
    "svr_rmse_training = mean_squared_error(y_train, svr_y_pred_train, squared=False)\n",
    "svr_rmse_testing = mean_squared_error(y_test, svr_y_pred_test, squared=False)\n",
    "print('Support Vector Regression RMSE - Training:', svr_rmse_training)\n",
    "print('Support Vector Regression RMSE - Testing:', svr_rmse_testing)"
   ]
  },
  {
   "cell_type": "code",
   "execution_count": 65,
   "metadata": {},
   "outputs": [
    {
     "data": {
      "image/png": "[encoded data removed]",
      "text/plain": [
       "<Figure size 432x288 with 1 Axes>"
      ]
     },
     "metadata": {
      "needs_background": "light"
     },
     "output_type": "display_data"
    }
   ],
   "source": [
    "plt.hist(y_test, color='blue', label='Actual Overall', alpha=0.5)\n",
    "plt.hist(svr_y_pred_test, color='red', label='Predicted Overall', alpha=0.5)\n",
    "plt.xlabel('Overall Rating')\n",
    "plt.ylabel('Num of Players')\n",
    "plt.legend()\n",
    "plt.show()"
   ]
  },
  {
   "cell_type": "markdown",
   "metadata": {},
   "source": [
    "## Model Testing Results"
   ]
  },
  {
   "cell_type": "code",
   "execution_count": 66,
   "metadata": {},
   "outputs": [
    {
     "data": {
      "text/html": [
       "<div>\n",
       "<style scoped>\n",
       "    .dataframe tbody tr th:only-of-type {\n",
       "        vertical-align: middle;\n",
       "    }\n",
       "\n",
       "    .dataframe tbody tr th {\n",
       "        vertical-align: top;\n",
       "    }\n",
       "\n",
       "    .dataframe thead th {\n",
       "        text-align: right;\n",
       "    }\n",
       "</style>\n",
       "<table border=\"1\" class=\"dataframe\">\n",
       "  <thead>\n",
       "    <tr style=\"text-align: right;\">\n",
       "      <th></th>\n",
       "      <th>Model</th>\n",
       "      <th>R2</th>\n",
       "    </tr>\n",
       "  </thead>\n",
       "  <tbody>\n",
       "    <tr>\n",
       "      <th>0</th>\n",
       "      <td>Linear Regression</td>\n",
       "      <td>0.931782</td>\n",
       "    </tr>\n",
       "    <tr>\n",
       "      <th>1</th>\n",
       "      <td>Decision Tree</td>\n",
       "      <td>0.929096</td>\n",
       "    </tr>\n",
       "    <tr>\n",
       "      <th>2</th>\n",
       "      <td>Random Forest</td>\n",
       "      <td>0.946343</td>\n",
       "    </tr>\n",
       "    <tr>\n",
       "      <th>3</th>\n",
       "      <td>RF w/ Random Serach</td>\n",
       "      <td>0.976462</td>\n",
       "    </tr>\n",
       "    <tr>\n",
       "      <th>4</th>\n",
       "      <td>XGBoost</td>\n",
       "      <td>0.973059</td>\n",
       "    </tr>\n",
       "    <tr>\n",
       "      <th>5</th>\n",
       "      <td>Support Vector</td>\n",
       "      <td>0.979037</td>\n",
       "    </tr>\n",
       "  </tbody>\n",
       "</table>\n",
       "</div>"
      ],
      "text/plain": [
       "                 Model        R2\n",
       "0    Linear Regression  0.931782\n",
       "1        Decision Tree  0.929096\n",
       "2        Random Forest  0.946343\n",
       "3  RF w/ Random Serach  0.976462\n",
       "4              XGBoost  0.973059\n",
       "5       Support Vector  0.979037"
      ]
     },
     "execution_count": 66,
     "metadata": {},
     "output_type": "execute_result"
    }
   ],
   "source": [
    "names = ['Linear Regression', 'Decision Tree', 'Random Forest', 'RF w/ Random Serach', 'XGBoost', 'Support Vector']\n",
    "columns = ['Model', 'R2']\n",
    "scores = [linreg_R2_testing, dt_R2_testing, rf_R2_testing, rf_random_R2_testing, xgb_random_R2_testing, svr_R2_testing]\n",
    "model_R2_results = pd.DataFrame([[x, y] for x, y in zip(names, scores)], columns = columns)\n",
    "model_R2_results"
   ]
  },
  {
   "cell_type": "code",
   "execution_count": 67,
   "metadata": {},
   "outputs": [
    {
     "data": {
      "text/html": [
       "<div>\n",
       "<style scoped>\n",
       "    .dataframe tbody tr th:only-of-type {\n",
       "        vertical-align: middle;\n",
       "    }\n",
       "\n",
       "    .dataframe tbody tr th {\n",
       "        vertical-align: top;\n",
       "    }\n",
       "\n",
       "    .dataframe thead th {\n",
       "        text-align: right;\n",
       "    }\n",
       "</style>\n",
       "<table border=\"1\" class=\"dataframe\">\n",
       "  <thead>\n",
       "    <tr style=\"text-align: right;\">\n",
       "      <th></th>\n",
       "      <th>Model</th>\n",
       "      <th>RMSE</th>\n",
       "    </tr>\n",
       "  </thead>\n",
       "  <tbody>\n",
       "    <tr>\n",
       "      <th>0</th>\n",
       "      <td>Linear Regression</td>\n",
       "      <td>1.778476</td>\n",
       "    </tr>\n",
       "    <tr>\n",
       "      <th>1</th>\n",
       "      <td>Decision Tree</td>\n",
       "      <td>1.813152</td>\n",
       "    </tr>\n",
       "    <tr>\n",
       "      <th>2</th>\n",
       "      <td>Random Forest</td>\n",
       "      <td>1.577299</td>\n",
       "    </tr>\n",
       "    <tr>\n",
       "      <th>3</th>\n",
       "      <td>RF w/ Random Serach</td>\n",
       "      <td>1.044688</td>\n",
       "    </tr>\n",
       "    <tr>\n",
       "      <th>4</th>\n",
       "      <td>XGBoost</td>\n",
       "      <td>1.117659</td>\n",
       "    </tr>\n",
       "    <tr>\n",
       "      <th>5</th>\n",
       "      <td>Support Vector</td>\n",
       "      <td>0.985882</td>\n",
       "    </tr>\n",
       "  </tbody>\n",
       "</table>\n",
       "</div>"
      ],
      "text/plain": [
       "                 Model      RMSE\n",
       "0    Linear Regression  1.778476\n",
       "1        Decision Tree  1.813152\n",
       "2        Random Forest  1.577299\n",
       "3  RF w/ Random Serach  1.044688\n",
       "4              XGBoost  1.117659\n",
       "5       Support Vector  0.985882"
      ]
     },
     "execution_count": 67,
     "metadata": {},
     "output_type": "execute_result"
    }
   ],
   "source": [
    "names = ['Linear Regression', 'Decision Tree', 'Random Forest', 'RF w/ Random Serach', 'XGBoost', 'Support Vector']\n",
    "columns = ['Model', 'RMSE']\n",
    "scores = [linreg_rmse_testing, dt_rmse_testing, rf_rmse_testing, rf_random_rmse_testing, xgb_random_rmse_testing, svr_rmse_testing]\n",
    "model_rmse_results = pd.DataFrame([[x, y] for x, y in zip(names, scores)], columns = columns)\n",
    "model_rmse_results"
   ]
  },
  {
   "cell_type": "code",
   "execution_count": 68,
   "metadata": {},
   "outputs": [
    {
     "data": {
      "text/plain": [
       "(0.9, 1.0)"
      ]
     },
     "execution_count": 68,
     "metadata": {},
     "output_type": "execute_result"
    },
    {
     "data": {
      "image/png": "[encoded data removed]",
      "text/plain": [
       "<Figure size 432x288 with 1 Axes>"
      ]
     },
     "metadata": {
      "needs_background": "light"
     },
     "output_type": "display_data"
    }
   ],
   "source": [
    "sns.barplot(data=model_R2_results, x='Model', y='R2')\n",
    "plt.title('Performance of Testing Models')\n",
    "plt.xticks(rotation=45)\n",
    "plt.ylim(0.9, 1.0)"
   ]
  },
  {
   "cell_type": "code",
   "execution_count": 69,
   "metadata": {},
   "outputs": [
    {
     "data": {
      "text/plain": [
       "(array([0, 1, 2, 3, 4, 5]),\n",
       " [Text(0, 0, 'Linear Regression'),\n",
       "  Text(1, 0, 'Decision Tree'),\n",
       "  Text(2, 0, 'Random Forest'),\n",
       "  Text(3, 0, 'RF w/ Random Serach'),\n",
       "  Text(4, 0, 'XGBoost'),\n",
       "  Text(5, 0, 'Support Vector')])"
      ]
     },
     "execution_count": 69,
     "metadata": {},
     "output_type": "execute_result"
    },
    {
     "data": {
      "image/png": "[encoded data removed]",
      "text/plain": [
       "<Figure size 432x288 with 1 Axes>"
      ]
     },
     "metadata": {
      "needs_background": "light"
     },
     "output_type": "display_data"
    }
   ],
   "source": [
    "sns.barplot(data=model_rmse_results, x='Model', y='RMSE')\n",
    "plt.title('Performance of Testing Models')\n",
    "plt.xticks(rotation=45)"
   ]
  }
 ],
 "metadata": {
  "interpreter": {
   "hash": "646d263937098e5c227cad08a1f0d51c4fda681b8020c7e6f1e625acb959f075"
  },
  "kernelspec": {
   "display_name": "Python 3.8.5 ('learn-env')",
   "language": "python",
   "name": "python3"
  },
  "language_info": {
   "codemirror_mode": {
    "name": "ipython",
    "version": 3
   },
   "file_extension": ".py",
   "mimetype": "text/x-python",
   "name": "python",
   "nbconvert_exporter": "python",
   "pygments_lexer": "ipython3",
   "version": "3.8.5"
  },
  "orig_nbformat": 4
 },
 "nbformat": 4,
 "nbformat_minor": 2
}
